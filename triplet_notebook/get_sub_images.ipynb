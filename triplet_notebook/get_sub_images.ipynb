{
 "cells": [
  {
   "cell_type": "code",
   "execution_count": 1,
   "metadata": {
    "collapsed": false
   },
   "outputs": [
    {
     "name": "stderr",
     "output_type": "stream",
     "text": [
      "/Users/haonans/Development/Break12306Captcha/env/lib/python2.7/site-packages/matplotlib/font_manager.py:273: UserWarning: Matplotlib is building the font cache using fc-list. This may take a moment.\n",
      "  warnings.warn('Matplotlib is building the font cache using fc-list. This may take a moment.')\n"
     ]
    }
   ],
   "source": [
    "%matplotlib inline"
   ]
  },
  {
   "cell_type": "code",
   "execution_count": 30,
   "metadata": {
    "collapsed": true
   },
   "outputs": [],
   "source": [
    "from PIL import Image\n",
    "import os"
   ]
  },
  {
   "cell_type": "code",
   "execution_count": 31,
   "metadata": {
    "collapsed": true
   },
   "outputs": [],
   "source": [
    "def get_sub_img(im, i, j):\n",
    "    assert 0 <= i <= 1\n",
    "    assert 0 <= j <= 3\n",
    "    \n",
    "    top = 41 + (67 + 5) * i\n",
    "    bottom = top + 67\n",
    "    \n",
    "    left = 5 + (67 + 5) * j\n",
    "    right = left + 67\n",
    "\n",
    "    return im.crop((left, top, right, bottom))"
   ]
  },
  {
   "cell_type": "code",
   "execution_count": 41,
   "metadata": {
    "collapsed": true
   },
   "outputs": [],
   "source": [
    "captcha_dir = '../../../Downloads/CAPTCHAs/'\n",
    "captcha_fnames = os.listdir(captcha_dir)"
   ]
  },
  {
   "cell_type": "code",
   "execution_count": 43,
   "metadata": {
    "collapsed": false
   },
   "outputs": [
    {
     "name": "stdout",
     "output_type": "stream",
     "text": [
      "398.jpg\n",
      "47.jpg\n",
      "87.jpg\n"
     ]
    }
   ],
   "source": [
    "import itertools\n",
    "\n",
    "subimage_dir = '../../../Downloads/subimages/'\n",
    "for fname in captcha_fnames:\n",
    "    try:\n",
    "        captcha = Image.open(os.path.join(captcha_dir, fname))\n",
    "        for i, j in itertools.product(xrange(2), xrange(4)):\n",
    "            sub_image = get_sub_img(captcha, i, j)\n",
    "            sub_image.save(os.path.join(subimage_dir + '{}_{}_{}.jpg'.format(fname.split('.')[0], i, j)))\n",
    "    except IOError as e:\n",
    "        print fname\n",
    "        pass"
   ]
  }
 ],
 "metadata": {
  "kernelspec": {
   "display_name": "Python 2",
   "language": "python",
   "name": "python2"
  },
  "language_info": {
   "codemirror_mode": {
    "name": "ipython",
    "version": 2.0
   },
   "file_extension": ".py",
   "mimetype": "text/x-python",
   "name": "python",
   "nbconvert_exporter": "python",
   "pygments_lexer": "ipython2",
   "version": "2.7.10"
  }
 },
 "nbformat": 4,
 "nbformat_minor": 0
}