{
 "cells": [
  {
   "cell_type": "code",
   "execution_count": 1,
   "metadata": {
    "collapsed": false
   },
   "outputs": [],
   "source": [
    "# display plots in this notebook\n",
    "%matplotlib inline\n",
    "\n",
    "import matplotlib.pyplot as plt\n",
    "from scipy.spatial.distance import cosine\n",
    "\n",
    "# set display defaults\n",
    "plt.rcParams['figure.figsize'] = (2, 2) \n",
    "plt.rcParams['image.interpolation'] = 'nearest'  # don't interpolate: show square pixels\n",
    "plt.rcParams['image.cmap'] = 'gray'  # use grayscale output rather than a (potentially misleading) color heatmap\n",
    "\n",
    "import numpy as np\n",
    "from PIL import Image\n",
    "\n",
    "import sys\n",
    "caffe_root = '/home/haonans/software/caffe-video_triplet/'\n",
    "sys.path.insert(0, caffe_root + 'python')\n",
    "\n",
    "import caffe\n",
    "\n",
    "caffe.set_mode_gpu()"
   ]
  },
  {
   "cell_type": "code",
   "execution_count": 122,
   "metadata": {
    "collapsed": false
   },
   "outputs": [],
   "source": [
    "model_def = '/home/haonans/software/caffe-video_triplet/rank_scripts/rank_alexnet/unsup_net_deploy.prototxt'\n",
    "model_weights = '/home/haonans/capstone/video_models/unsup_alexnet/video_margin_05_iter_50000.caffemodel'\n",
    "\n",
    "net = caffe.Net(model_def,      # defines the structure of the model\n",
    "                model_weights,  # contains the trained weights\n",
    "                caffe.TEST)     # use test mode (e.g., don't perform dropout)\n",
    "\n",
    "# set the size of the input (we can skip this if we're happy\n",
    "# with the default; we can also change it later, e.g., for different batch sizes)\n",
    "net.blobs['data'].reshape(50,        # batch size\n",
    "                          3,         # 3-channel (BGR) images\n",
    "                          227, 227)  # image size is 227x227"
   ]
  },
  {
   "cell_type": "code",
   "execution_count": 123,
   "metadata": {
    "collapsed": false
   },
   "outputs": [],
   "source": [
    "transformer = caffe.io.Transformer({'data': net.blobs['data'].data.shape})\n",
    "\n",
    "transformer.set_transpose('data', (2,0,1))  # move image channels to outermost dimension\n",
    "transformer.set_raw_scale('data', 255)      # rescale from [0, 1] to [0, 255]\n",
    "\n",
    "def get_fc7_vector(image_obj):\n",
    "#     image_obj = caffe.io.load_image(image_fname)\n",
    "    \n",
    "    transformed_image = transformer.preprocess('data', image_obj)\n",
    "    \n",
    "    net.blobs['data'].data[...] = transformed_image\n",
    "    output = net.forward()\n",
    "    fc7_vector = output['fc7'][0]\n",
    "    \n",
    "    return np.array(fc7_vector)"
   ]
  },
  {
   "cell_type": "code",
   "execution_count": 124,
   "metadata": {
    "collapsed": false
   },
   "outputs": [
    {
     "data": {
      "text/plain": [
       "<matplotlib.image.AxesImage at 0x2b8bae1e80d0>"
      ]
     },
     "execution_count": 124,
     "metadata": {},
     "output_type": "execute_result"
    },
    {
     "data": {
      "image/png": "[encoded data removed]",
      "text/plain": [
       "<matplotlib.figure.Figure at 0x2b8baf566b90>"
      ]
     },
     "metadata": {},
     "output_type": "display_data"
    }
   ],
   "source": [
    "img1 = caffe.io.load_image('/home/haonans/capstone/data/testing/1.jpg')\n",
    "plt.imshow(img1)"
   ]
  },
  {
   "cell_type": "code",
   "execution_count": 125,
   "metadata": {
    "collapsed": false
   },
   "outputs": [],
   "source": [
    "import os\n",
    "\n",
    "test_fnames = map(lambda fname: os.path.join('/home/haonans/capstone/data/testing/', fname), \n",
    "                 os.listdir('/home/haonans/capstone/data/testing/')[:50])\n",
    "\n",
    "# for i, img_fname in enumerate(test_fnames):\n",
    "#     img = caffe.io.load_image(img_fname)\n",
    "#     plt.figure(i)\n",
    "#     plt.imshow(img)\n",
    "#     plt.title(i)"
   ]
  },
  {
   "cell_type": "code",
   "execution_count": 126,
   "metadata": {
    "collapsed": false
   },
   "outputs": [],
   "source": [
    "img_fnames = [test_fnames[0], test_fnames[1], test_fnames[12], test_fnames[15], test_fnames[40], test_fnames[41], test_fnames[24], test_fnames[27]]\n",
    "\n",
    "# for i, img_fname in enumerate(img_fnames):\n",
    "#     img = caffe.io.load_image(img_fname)\n",
    "#     plt.figure(i)\n",
    "#     plt.imshow(img)\n",
    "#     plt.title(i)\n",
    "\n",
    "vectors = map(lambda f: get_fc7_vector(caffe.io.load_image(f)), img_fnames)"
   ]
  },
  {
   "cell_type": "code",
   "execution_count": 127,
   "metadata": {
    "collapsed": true
   },
   "outputs": [],
   "source": [
    "sim_matrix = np.zeros((8,8), dtype=np.float32)\n",
    "\n",
    "import itertools\n",
    "for i, j in itertools.product(xrange(8), xrange(8)):\n",
    "    sim_matrix[i][j] = cosine(vectors[i], vectors[j])"
   ]
  },
  {
   "cell_type": "code",
   "execution_count": 128,
   "metadata": {
    "collapsed": false
   },
   "outputs": [
    {
     "data": {
      "text/plain": [
       "array([0, 0, 2, 3, 4, 5, 6, 7])"
      ]
     },
     "execution_count": 128,
     "metadata": {},
     "output_type": "execute_result"
    }
   ],
   "source": [
    "sim_matrix.argmin(axis=1)"
   ]
  },
  {
   "cell_type": "code",
   "execution_count": 131,
   "metadata": {
    "collapsed": false
   },
   "outputs": [
    {
     "data": {
      "text/html": [
       "<div>\n",
       "<table border=\"1\" class=\"dataframe\">\n",
       "  <thead>\n",
       "    <tr style=\"text-align: right;\">\n",
       "      <th></th>\n",
       "      <th>0</th>\n",
       "      <th>1</th>\n",
       "      <th>2</th>\n",
       "      <th>3</th>\n",
       "      <th>4</th>\n",
       "      <th>5</th>\n",
       "      <th>6</th>\n",
       "      <th>7</th>\n",
       "    </tr>\n",
       "  </thead>\n",
       "  <tbody>\n",
       "    <tr>\n",
       "      <th>0</th>\n",
       "      <td>1.000000</td>\n",
       "      <td>1.000000</td>\n",
       "      <td>0.005191</td>\n",
       "      <td>0.099367</td>\n",
       "      <td>0.205768</td>\n",
       "      <td>0.218539</td>\n",
       "      <td>0.310235</td>\n",
       "      <td>0.349042</td>\n",
       "    </tr>\n",
       "    <tr>\n",
       "      <th>1</th>\n",
       "      <td>1.000000</td>\n",
       "      <td>1.000000</td>\n",
       "      <td>0.005191</td>\n",
       "      <td>0.099367</td>\n",
       "      <td>0.205768</td>\n",
       "      <td>0.218539</td>\n",
       "      <td>0.310235</td>\n",
       "      <td>0.349042</td>\n",
       "    </tr>\n",
       "    <tr>\n",
       "      <th>2</th>\n",
       "      <td>0.005191</td>\n",
       "      <td>0.005191</td>\n",
       "      <td>1.000000</td>\n",
       "      <td>0.875885</td>\n",
       "      <td>0.021961</td>\n",
       "      <td>0.019927</td>\n",
       "      <td>0.698242</td>\n",
       "      <td>0.711670</td>\n",
       "    </tr>\n",
       "    <tr>\n",
       "      <th>3</th>\n",
       "      <td>0.099367</td>\n",
       "      <td>0.099367</td>\n",
       "      <td>0.875885</td>\n",
       "      <td>1.000000</td>\n",
       "      <td>0.360745</td>\n",
       "      <td>0.341811</td>\n",
       "      <td>0.675701</td>\n",
       "      <td>0.704466</td>\n",
       "    </tr>\n",
       "    <tr>\n",
       "      <th>4</th>\n",
       "      <td>0.205768</td>\n",
       "      <td>0.205768</td>\n",
       "      <td>0.021961</td>\n",
       "      <td>0.360745</td>\n",
       "      <td>1.000000</td>\n",
       "      <td>0.885499</td>\n",
       "      <td>0.173278</td>\n",
       "      <td>0.183506</td>\n",
       "    </tr>\n",
       "    <tr>\n",
       "      <th>5</th>\n",
       "      <td>0.218539</td>\n",
       "      <td>0.218539</td>\n",
       "      <td>0.019927</td>\n",
       "      <td>0.341811</td>\n",
       "      <td>0.885499</td>\n",
       "      <td>1.000000</td>\n",
       "      <td>0.233830</td>\n",
       "      <td>0.233663</td>\n",
       "    </tr>\n",
       "    <tr>\n",
       "      <th>6</th>\n",
       "      <td>0.310235</td>\n",
       "      <td>0.310235</td>\n",
       "      <td>0.698242</td>\n",
       "      <td>0.675701</td>\n",
       "      <td>0.173278</td>\n",
       "      <td>0.233830</td>\n",
       "      <td>1.000000</td>\n",
       "      <td>0.981799</td>\n",
       "    </tr>\n",
       "    <tr>\n",
       "      <th>7</th>\n",
       "      <td>0.349042</td>\n",
       "      <td>0.349042</td>\n",
       "      <td>0.711670</td>\n",
       "      <td>0.704466</td>\n",
       "      <td>0.183506</td>\n",
       "      <td>0.233663</td>\n",
       "      <td>0.981799</td>\n",
       "      <td>1.000000</td>\n",
       "    </tr>\n",
       "  </tbody>\n",
       "</table>\n",
       "</div>"
      ],
      "text/plain": [
       "          0         1         2         3         4         5         6  \\\n",
       "0  1.000000  1.000000  0.005191  0.099367  0.205768  0.218539  0.310235   \n",
       "1  1.000000  1.000000  0.005191  0.099367  0.205768  0.218539  0.310235   \n",
       "2  0.005191  0.005191  1.000000  0.875885  0.021961  0.019927  0.698242   \n",
       "3  0.099367  0.099367  0.875885  1.000000  0.360745  0.341811  0.675701   \n",
       "4  0.205768  0.205768  0.021961  0.360745  1.000000  0.885499  0.173278   \n",
       "5  0.218539  0.218539  0.019927  0.341811  0.885499  1.000000  0.233830   \n",
       "6  0.310235  0.310235  0.698242  0.675701  0.173278  0.233830  1.000000   \n",
       "7  0.349042  0.349042  0.711670  0.704466  0.183506  0.233663  0.981799   \n",
       "\n",
       "          7  \n",
       "0  0.349042  \n",
       "1  0.349042  \n",
       "2  0.711670  \n",
       "3  0.704466  \n",
       "4  0.183506  \n",
       "5  0.233663  \n",
       "6  0.981799  \n",
       "7  1.000000  "
      ]
     },
     "execution_count": 131,
     "metadata": {},
     "output_type": "execute_result"
    }
   ],
   "source": [
    "from pandas import DataFrame\n",
    "DataFrame(1 - sim_matrix)"
   ]
  },
  {
   "cell_type": "code",
   "execution_count": null,
   "metadata": {
    "collapsed": true
   },
   "outputs": [],
   "source": []
  }
 ],
 "metadata": {
  "description": "Instant recognition with a pre-trained model and a tour of the net interface for visualizing features and parameters layer-by-layer.",
  "example_name": "Image Classification and Filter Visualization",
  "include_in_docs": true,
  "kernelspec": {
   "display_name": "Python 2",
   "language": "python",
   "name": "python2"
  },
  "language_info": {
   "codemirror_mode": {
    "name": "ipython",
    "version": 2
   },
   "file_extension": ".py",
   "mimetype": "text/x-python",
   "name": "python",
   "nbconvert_exporter": "python",
   "pygments_lexer": "ipython2",
   "version": "2.7.12"
  },
  "priority": 1
 },
 "nbformat": 4,
 "nbformat_minor": 0
}
