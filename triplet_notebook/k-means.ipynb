{
 "cells": [
  {
   "cell_type": "code",
   "execution_count": 1,
   "metadata": {
    "collapsed": true
   },
   "outputs": [],
   "source": [
    "from sklearn.cluster import KMeans"
   ]
  },
  {
   "cell_type": "code",
   "execution_count": 11,
   "metadata": {
    "collapsed": false,
    "scrolled": true
   },
   "outputs": [
    {
     "name": "stdout",
     "output_type": "stream",
     "text": [
      "All: (16535, 1024)\n",
      "Train: (15000, 1024), Test: (1535, 1024)\n"
     ]
    }
   ],
   "source": [
    "from scipy import io\n",
    "\n",
    "all_vectors = io.mmread('/home/haonans/capstone/data/labeled_sparse_matrix.mtx').tocoo().todense()\n",
    "\n",
    "print \"All: {}\".format(all_vectors.shape)\n",
    "\n",
    "train_vectors, test_vectors = all_vectors[:15000], all_vectors[15000:]\n",
    "print \"Train: {}, Test: {}\".format(train_vectors.shape, test_vectors.shape)"
   ]
  },
  {
   "cell_type": "code",
   "execution_count": 26,
   "metadata": {
    "collapsed": true
   },
   "outputs": [],
   "source": [
    "with open('../../data/labeled_testing_fnames.txt') as reader:\n",
    "    all_vector_names = map(lambda line: line.strip().split('/')[-1], reader)\n",
    "    \n",
    "train_names, test_names = all_vector_names[:15000], all_vector_names[15000:]\n",
    "assert len(train_names) == train_vectors.shape[0], len(test_names) == test_vectors.shape[0]"
   ]
  },
  {
   "cell_type": "code",
   "execution_count": 17,
   "metadata": {
    "collapsed": false
   },
   "outputs": [],
   "source": [
    "with open('../../data/labeled_testing/labels.txt') as reader:\n",
    "    name_2_label = dict(map(lambda line: line.strip().split(), reader))\n",
    "    \n",
    "assert len(name_2_label) <= all_vectors.shape[0]"
   ]
  },
  {
   "cell_type": "code",
   "execution_count": 37,
   "metadata": {
    "collapsed": false
   },
   "outputs": [
    {
     "data": {
      "text/plain": [
       "KMeans(algorithm='auto', copy_x=True, init='k-means++', max_iter=300,\n",
       "    n_clusters=460, n_init=10, n_jobs=-1, precompute_distances='auto',\n",
       "    random_state=None, tol=0.0001, verbose=0)"
      ]
     },
     "execution_count": 37,
     "metadata": {},
     "output_type": "execute_result"
    }
   ],
   "source": [
    "kmeans = KMeans(n_clusters=460, init='k-means++', n_jobs=-1)\n",
    "kmeans.fit(train_vectors)"
   ]
  },
  {
   "cell_type": "code",
   "execution_count": 34,
   "metadata": {
    "collapsed": false
   },
   "outputs": [
    {
     "data": {
      "text/plain": [
       "KMeans(algorithm='auto', copy_x=True, init='k-means++', max_iter=300,\n",
       "    n_clusters=230, n_init=10, n_jobs=-1, precompute_distances='auto',\n",
       "    random_state=None, tol=0.0001, verbose=0)"
      ]
     },
     "execution_count": 34,
     "metadata": {},
     "output_type": "execute_result"
    }
   ],
   "source": [
    "kmeans = KMeans(n_clusters=230, init='k-means++', n_jobs=-1)\n",
    "kmeans.fit(train_vectors)"
   ]
  },
  {
   "cell_type": "code",
   "execution_count": 35,
   "metadata": {
    "collapsed": false
   },
   "outputs": [],
   "source": [
    "train_assignments = kmeans.predict(train_vectors)\n",
    "\n",
    "from collections import defaultdict, Counter\n",
    "\n",
    "cluster_2_list = defaultdict(list)\n",
    "for i_name, i_cluster in enumerate(train_assignments):\n",
    "    cluster_2_list[i_cluster].append(name_2_label.get(train_names[i_name], \"XXX\"))\n",
    "\n",
    "cluster_2_label = {}\n",
    "for i_cluster, labels in cluster_2_list.iteritems():\n",
    "    counter = Counter(labels)\n",
    "    cluster_2_label[i_cluster] = counter.most_common(1)[0][0]"
   ]
  },
  {
   "cell_type": "code",
   "execution_count": 36,
   "metadata": {
    "collapsed": false
   },
   "outputs": [
    {
     "name": "stdout",
     "output_type": "stream",
     "text": [
      "Total: 1535, Correct: 219\n"
     ]
    }
   ],
   "source": [
    "correct_counter = 0\n",
    "\n",
    "test_assignments = kmeans.predict(test_vectors)\n",
    "for i_name, i_cluster in enumerate(test_assignments):\n",
    "    real_label = name_2_label.get(test_names[i_name], \"YYY\")\n",
    "    assigned_label = cluster_2_label[i_cluster]\n",
    "    \n",
    "    if real_label == assigned_label:\n",
    "        correct_counter += 1\n",
    "        \n",
    "print \"Total: {}, Correct: {}\".format(len(test_names), correct_counter)"
   ]
  },
  {
   "cell_type": "code",
   "execution_count": 40,
   "metadata": {
    "collapsed": false
   },
   "outputs": [
    {
     "name": "stdout",
     "output_type": "stream",
     "text": [
      "Total: 16535, Correct: 6085\n"
     ]
    }
   ],
   "source": [
    "all_assignments = kmeans.predict(all_vectors)\n",
    "\n",
    "from collections import defaultdict, Counter\n",
    "\n",
    "cluster_2_list = defaultdict(list)\n",
    "for i_name, i_cluster in enumerate(all_assignments):\n",
    "    cluster_2_list[i_cluster].append(name_2_label.get(all_vector_names[i_name], \"XXX\"))\n",
    "\n",
    "cluster_2_label = {}\n",
    "for i_cluster, labels in cluster_2_list.iteritems():\n",
    "    counter = Counter(labels)\n",
    "    cluster_2_label[i_cluster] = counter.most_common(1)[0][0]\n",
    "\n",
    "correct_counter = 0\n",
    "for i_name, i_cluster in enumerate(all_assignments):\n",
    "    real_label = name_2_label.get(all_vector_names[i_name], \"YYY\")\n",
    "    assigned_label = cluster_2_label[i_cluster]\n",
    "    \n",
    "    if real_label == assigned_label:\n",
    "        correct_counter += 1\n",
    "        \n",
    "print \"Total: {}, Correct: {}\".format(len(all_vector_names), correct_counter)"
   ]
  },
  {
   "cell_type": "code",
   "execution_count": null,
   "metadata": {
    "collapsed": true
   },
   "outputs": [],
   "source": []
  }
 ],
 "metadata": {
  "kernelspec": {
   "display_name": "Python 2",
   "language": "python",
   "name": "python2"
  },
  "language_info": {
   "codemirror_mode": {
    "name": "ipython",
    "version": 2
   },
   "file_extension": ".py",
   "mimetype": "text/x-python",
   "name": "python",
   "nbconvert_exporter": "python",
   "pygments_lexer": "ipython2",
   "version": "2.7.12"
  }
 },
 "nbformat": 4,
 "nbformat_minor": 1
}
